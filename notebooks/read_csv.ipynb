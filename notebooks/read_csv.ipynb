{
 "cells": [
  {
   "cell_type": "code",
   "execution_count": 1,
   "metadata": {},
   "outputs": [],
   "source": [
    "import pandas as pd\n",
    "\n",
    "from chessnet.utils import ARTIFACTS_DIR"
   ]
  },
  {
   "cell_type": "code",
   "execution_count": 2,
   "metadata": {},
   "outputs": [
    {
     "name": "stdout",
     "output_type": "stream",
     "text": [
      "(7852388, 9)\n"
     ]
    },
    {
     "data": {
      "text/html": [
       "<div>\n",
       "<style scoped>\n",
       "    .dataframe tbody tr th:only-of-type {\n",
       "        vertical-align: middle;\n",
       "    }\n",
       "\n",
       "    .dataframe tbody tr th {\n",
       "        vertical-align: top;\n",
       "    }\n",
       "\n",
       "    .dataframe thead th {\n",
       "        text-align: right;\n",
       "    }\n",
       "</style>\n",
       "<table border=\"1\" class=\"dataframe\">\n",
       "  <thead>\n",
       "    <tr style=\"text-align: right;\">\n",
       "      <th></th>\n",
       "      <th>White</th>\n",
       "      <th>Black</th>\n",
       "      <th>WhiteElo</th>\n",
       "      <th>BlackElo</th>\n",
       "      <th>Result</th>\n",
       "      <th>ECO</th>\n",
       "      <th>PlyCount</th>\n",
       "      <th>Date</th>\n",
       "      <th>SourceDate</th>\n",
       "    </tr>\n",
       "  </thead>\n",
       "  <tbody>\n",
       "    <tr>\n",
       "      <th>0</th>\n",
       "      <td>Kravchenko, Vladimir V</td>\n",
       "      <td>Smirnova, Ekaterina</td>\n",
       "      <td>2377.0</td>\n",
       "      <td>2130.0</td>\n",
       "      <td>0-1</td>\n",
       "      <td>A05</td>\n",
       "      <td>98.0</td>\n",
       "      <td>2016.09.08</td>\n",
       "      <td>2016.09.17</td>\n",
       "    </tr>\n",
       "    <tr>\n",
       "      <th>1</th>\n",
       "      <td>Evdokimov, Alexey</td>\n",
       "      <td>Karpov, Alexander</td>\n",
       "      <td>2249.0</td>\n",
       "      <td>2242.0</td>\n",
       "      <td>1-0</td>\n",
       "      <td>A89</td>\n",
       "      <td>95.0</td>\n",
       "      <td>2016.09.08</td>\n",
       "      <td>2016.09.17</td>\n",
       "    </tr>\n",
       "    <tr>\n",
       "      <th>2</th>\n",
       "      <td>Egorov, Pavel</td>\n",
       "      <td>Golubev, Roman</td>\n",
       "      <td>2249.0</td>\n",
       "      <td>2334.0</td>\n",
       "      <td>1/2-1/2</td>\n",
       "      <td>E90</td>\n",
       "      <td>90.0</td>\n",
       "      <td>2016.09.08</td>\n",
       "      <td>2016.09.17</td>\n",
       "    </tr>\n",
       "    <tr>\n",
       "      <th>3</th>\n",
       "      <td>Nikologorskiy, Konstantin</td>\n",
       "      <td>Kravchenko, Vladimir V</td>\n",
       "      <td>2410.0</td>\n",
       "      <td>2377.0</td>\n",
       "      <td>1-0</td>\n",
       "      <td>B06</td>\n",
       "      <td>107.0</td>\n",
       "      <td>2016.09.08</td>\n",
       "      <td>2016.09.17</td>\n",
       "    </tr>\n",
       "    <tr>\n",
       "      <th>4</th>\n",
       "      <td>Egorov, Pavel</td>\n",
       "      <td>Evdokimov, Alexey</td>\n",
       "      <td>2249.0</td>\n",
       "      <td>2249.0</td>\n",
       "      <td>1/2-1/2</td>\n",
       "      <td>E90</td>\n",
       "      <td>61.0</td>\n",
       "      <td>2016.09.08</td>\n",
       "      <td>2016.09.17</td>\n",
       "    </tr>\n",
       "  </tbody>\n",
       "</table>\n",
       "</div>"
      ],
      "text/plain": [
       "                       White                   Black  WhiteElo  BlackElo  \\\n",
       "0     Kravchenko, Vladimir V     Smirnova, Ekaterina    2377.0    2130.0   \n",
       "1          Evdokimov, Alexey       Karpov, Alexander    2249.0    2242.0   \n",
       "2              Egorov, Pavel          Golubev, Roman    2249.0    2334.0   \n",
       "3  Nikologorskiy, Konstantin  Kravchenko, Vladimir V    2410.0    2377.0   \n",
       "4              Egorov, Pavel       Evdokimov, Alexey    2249.0    2249.0   \n",
       "\n",
       "    Result  ECO  PlyCount        Date  SourceDate  \n",
       "0      0-1  A05      98.0  2016.09.08  2016.09.17  \n",
       "1      1-0  A89      95.0  2016.09.08  2016.09.17  \n",
       "2  1/2-1/2  E90      90.0  2016.09.08  2016.09.17  \n",
       "3      1-0  B06     107.0  2016.09.08  2016.09.17  \n",
       "4  1/2-1/2  E90      61.0  2016.09.08  2016.09.17  "
      ]
     },
     "execution_count": 2,
     "metadata": {},
     "output_type": "execute_result"
    }
   ],
   "source": [
    "df = pd.read_csv(ARTIFACTS_DIR / \"OM_OTB_201609.csv\")\n",
    "print(df.shape)\n",
    "df.head()"
   ]
  },
  {
   "cell_type": "code",
   "execution_count": 3,
   "metadata": {},
   "outputs": [],
   "source": [
    "edges = df[[\"White\", \"Black\"]].drop_duplicates().dropna().values"
   ]
  },
  {
   "cell_type": "code",
   "execution_count": 5,
   "metadata": {},
   "outputs": [
    {
     "name": "stdout",
     "output_type": "stream",
     "text": [
      "(6823239, 2)\n"
     ]
    },
    {
     "data": {
      "text/plain": [
       "[['Kravchenko, Vladimir V', 'Smirnova, Ekaterina'],\n",
       " ['Evdokimov, Alexey', 'Karpov, Alexander'],\n",
       " ['Egorov, Pavel', 'Golubev, Roman'],\n",
       " ['Nikologorskiy, Konstantin', 'Kravchenko, Vladimir V'],\n",
       " ['Egorov, Pavel', 'Evdokimov, Alexey'],\n",
       " ['Evdokimov, Alexey', 'Glek, Igor'],\n",
       " ['Evdokimov, Alexey', 'Golubev, Roman'],\n",
       " ['Glek, Igor', 'Konaplev, Anton'],\n",
       " ['Strovsky, Mikhail', 'Smirnova, Ekaterina'],\n",
       " ['Kravchenko, Vladimir V', 'Glek, Igor']]"
      ]
     },
     "execution_count": 5,
     "metadata": {},
     "output_type": "execute_result"
    }
   ],
   "source": [
    "print(edges.shape)\n",
    "edges[:10].tolist()"
   ]
  },
  {
   "cell_type": "code",
   "execution_count": 6,
   "metadata": {},
   "outputs": [],
   "source": [
    "import networkx as nx"
   ]
  },
  {
   "cell_type": "code",
   "execution_count": 8,
   "metadata": {},
   "outputs": [
    {
     "name": "stdout",
     "output_type": "stream",
     "text": [
      "Graph with 5679 nodes and 9973 edges\n"
     ]
    },
    {
     "name": "stderr",
     "output_type": "stream",
     "text": [
      "/tmp/ipykernel_83496/289438571.py:2: DeprecationWarning: info is deprecated and will be removed in version 3.0.\n",
      "\n",
      "  print(nx.info(G))\n"
     ]
    }
   ],
   "source": [
    "G = nx.from_edgelist(edges[:10000])\n",
    "print(nx.info(G))"
   ]
  },
  {
   "cell_type": "code",
   "execution_count": null,
   "metadata": {},
   "outputs": [],
   "source": []
  }
 ],
 "metadata": {
  "interpreter": {
   "hash": "ea8266990647104c96fc9188f7d874fd4abbf03643df52e5712d4331e6e5aefb"
  },
  "kernelspec": {
   "display_name": "Python 3.9.7 ('chess')",
   "language": "python",
   "name": "python3"
  },
  "language_info": {
   "codemirror_mode": {
    "name": "ipython",
    "version": 3
   },
   "file_extension": ".py",
   "mimetype": "text/x-python",
   "name": "python",
   "nbconvert_exporter": "python",
   "pygments_lexer": "ipython3",
   "version": "3.9.7"
  },
  "orig_nbformat": 4
 },
 "nbformat": 4,
 "nbformat_minor": 2
}
