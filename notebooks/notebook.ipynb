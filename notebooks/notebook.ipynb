{
 "cells": [
  {
   "cell_type": "code",
   "execution_count": 28,
   "metadata": {},
   "outputs": [],
   "source": [
    "from collections import defaultdict\n",
    "\n",
    "import pandas as pd\n",
    "from chess.pgn import read_headers\n",
    "\n",
    "from chessnet.utils import DATA_DIR"
   ]
  },
  {
   "cell_type": "code",
   "execution_count": 13,
   "metadata": {},
   "outputs": [
    {
     "data": {
      "text/plain": [
       "Headers(Event='Online Olym Top DivD 2021', Site='chess.com INT', Date='2021.09.08', Round='1.1', White='Ozen, Deniz', Black='Gallego Alcaraz, Andres Felipe', Result='1-0', BlackElo='2512', BlackFideId='4402669', BlackTeam='Colombia', BlackTitle='GM', Board='1', ECO='A45', EventDate='2021.09.08', EventType='team', Opening=\"Queen's pawn game\", WhiteElo='2397', WhiteFideId='6349196', WhiteTeam='Turkey', WhiteTitle='IM')"
      ]
     },
     "execution_count": 13,
     "metadata": {},
     "output_type": "execute_result"
    }
   ],
   "source": [
    "filename = DATA_DIR / \"sample.pgn\"\n",
    "pgn = read_headers(open(filename, \"r\"))\n",
    "pgn"
   ]
  },
  {
   "cell_type": "code",
   "execution_count": 32,
   "metadata": {},
   "outputs": [],
   "source": [
    "filename = DATA_DIR / \"onlineolymtopd21.pgn\"\n",
    "file = open(filename, \"r\")\n",
    "\n",
    "data = defaultdict(list)\n",
    "fields = [\"White\", \"Black\", \"WhiteElo\", \"BlackElo\", \"Result\"]\n",
    "while pgn := read_headers(file):\n",
    "    for field in fields:\n",
    "        data[field].append(pgn[field])"
   ]
  },
  {
   "cell_type": "code",
   "execution_count": 34,
   "metadata": {},
   "outputs": [
    {
     "name": "stdout",
     "output_type": "stream",
     "text": [
      "(270, 5)\n"
     ]
    },
    {
     "data": {
      "text/html": [
       "<div>\n",
       "<style scoped>\n",
       "    .dataframe tbody tr th:only-of-type {\n",
       "        vertical-align: middle;\n",
       "    }\n",
       "\n",
       "    .dataframe tbody tr th {\n",
       "        vertical-align: top;\n",
       "    }\n",
       "\n",
       "    .dataframe thead th {\n",
       "        text-align: right;\n",
       "    }\n",
       "</style>\n",
       "<table border=\"1\" class=\"dataframe\">\n",
       "  <thead>\n",
       "    <tr style=\"text-align: right;\">\n",
       "      <th></th>\n",
       "      <th>White</th>\n",
       "      <th>Black</th>\n",
       "      <th>WhiteElo</th>\n",
       "      <th>BlackElo</th>\n",
       "      <th>Result</th>\n",
       "    </tr>\n",
       "  </thead>\n",
       "  <tbody>\n",
       "    <tr>\n",
       "      <th>0</th>\n",
       "      <td>Ozen, Deniz</td>\n",
       "      <td>Gallego Alcaraz, Andres Felipe</td>\n",
       "      <td>2397</td>\n",
       "      <td>2512</td>\n",
       "      <td>1-0</td>\n",
       "    </tr>\n",
       "    <tr>\n",
       "      <th>1</th>\n",
       "      <td>Martinez Romero, Martin</td>\n",
       "      <td>Soysal, Serkan</td>\n",
       "      <td>2409</td>\n",
       "      <td>2389</td>\n",
       "      <td>1/2-1/2</td>\n",
       "    </tr>\n",
       "    <tr>\n",
       "      <th>2</th>\n",
       "      <td>Caglar, Sila</td>\n",
       "      <td>Franco Valencia, Angela</td>\n",
       "      <td>2250</td>\n",
       "      <td>2089</td>\n",
       "      <td>1-0</td>\n",
       "    </tr>\n",
       "    <tr>\n",
       "      <th>3</th>\n",
       "      <td>Chirivi C, Jenny Astrid</td>\n",
       "      <td>Kocyigit, Buse Naz</td>\n",
       "      <td>2124</td>\n",
       "      <td>2034</td>\n",
       "      <td>1-0</td>\n",
       "    </tr>\n",
       "    <tr>\n",
       "      <th>4</th>\n",
       "      <td>Celik, Hasan Huseyin</td>\n",
       "      <td>Avila Pavas, Santiago</td>\n",
       "      <td>2370</td>\n",
       "      <td>2395</td>\n",
       "      <td>0-1</td>\n",
       "    </tr>\n",
       "    <tr>\n",
       "      <th>...</th>\n",
       "      <td>...</td>\n",
       "      <td>...</td>\n",
       "      <td>...</td>\n",
       "      <td>...</td>\n",
       "      <td>...</td>\n",
       "    </tr>\n",
       "    <tr>\n",
       "      <th>265</th>\n",
       "      <td>Soysal, Serkan</td>\n",
       "      <td>McShane, Luke J</td>\n",
       "      <td>2389</td>\n",
       "      <td>2674</td>\n",
       "      <td>1/2-1/2</td>\n",
       "    </tr>\n",
       "    <tr>\n",
       "      <th>266</th>\n",
       "      <td>Head, Louise</td>\n",
       "      <td>Onur, Cigdem</td>\n",
       "      <td>2090</td>\n",
       "      <td>2015</td>\n",
       "      <td>0-1</td>\n",
       "    </tr>\n",
       "    <tr>\n",
       "      <th>267</th>\n",
       "      <td>Sahin, Hayrun Nisa</td>\n",
       "      <td>Varney, Zoe</td>\n",
       "      <td>2019</td>\n",
       "      <td>1917</td>\n",
       "      <td>1/2-1/2</td>\n",
       "    </tr>\n",
       "    <tr>\n",
       "      <th>268</th>\n",
       "      <td>Derakhshani, Borna</td>\n",
       "      <td>Gurel, Ediz</td>\n",
       "      <td>2353</td>\n",
       "      <td>2353</td>\n",
       "      <td>1-0</td>\n",
       "    </tr>\n",
       "    <tr>\n",
       "      <th>269</th>\n",
       "      <td>Can, Isil</td>\n",
       "      <td>Kalaiyalahan, Akshaya</td>\n",
       "      <td>1945</td>\n",
       "      <td>2149</td>\n",
       "      <td>0-1</td>\n",
       "    </tr>\n",
       "  </tbody>\n",
       "</table>\n",
       "<p>270 rows × 5 columns</p>\n",
       "</div>"
      ],
      "text/plain": [
       "                       White                           Black WhiteElo  \\\n",
       "0                Ozen, Deniz  Gallego Alcaraz, Andres Felipe     2397   \n",
       "1    Martinez Romero, Martin                  Soysal, Serkan     2409   \n",
       "2               Caglar, Sila         Franco Valencia, Angela     2250   \n",
       "3    Chirivi C, Jenny Astrid              Kocyigit, Buse Naz     2124   \n",
       "4       Celik, Hasan Huseyin           Avila Pavas, Santiago     2370   \n",
       "..                       ...                             ...      ...   \n",
       "265           Soysal, Serkan                 McShane, Luke J     2389   \n",
       "266             Head, Louise                    Onur, Cigdem     2090   \n",
       "267       Sahin, Hayrun Nisa                     Varney, Zoe     2019   \n",
       "268       Derakhshani, Borna                     Gurel, Ediz     2353   \n",
       "269                Can, Isil           Kalaiyalahan, Akshaya     1945   \n",
       "\n",
       "    BlackElo   Result  \n",
       "0       2512      1-0  \n",
       "1       2389  1/2-1/2  \n",
       "2       2089      1-0  \n",
       "3       2034      1-0  \n",
       "4       2395      0-1  \n",
       "..       ...      ...  \n",
       "265     2674  1/2-1/2  \n",
       "266     2015      0-1  \n",
       "267     1917  1/2-1/2  \n",
       "268     2353      1-0  \n",
       "269     2149      0-1  \n",
       "\n",
       "[270 rows x 5 columns]"
      ]
     },
     "execution_count": 34,
     "metadata": {},
     "output_type": "execute_result"
    }
   ],
   "source": [
    "df = pd.DataFrame(data)\n",
    "print(df.shape)\n",
    "df"
   ]
  },
  {
   "cell_type": "code",
   "execution_count": 41,
   "metadata": {},
   "outputs": [
    {
     "name": "stdout",
     "output_type": "stream",
     "text": [
      "0\n",
      "100000\n",
      "200000\n",
      "300000\n",
      "400000\n",
      "500000\n",
      "600000\n",
      "700000\n",
      "800000\n"
     ]
    }
   ],
   "source": [
    "filename = DATA_DIR / \"om_datasets\" / \"OM_OTB_201609.pgn\"\n",
    "file = open(filename, \"r\")\n",
    "\n",
    "data = defaultdict(list)\n",
    "fields = [\"White\", \"Black\", \"WhiteElo\", \"BlackElo\", \"Result\"]\n",
    "i = 0\n",
    "\n",
    "pgn = read_headers(file)\n",
    "while pgn:\n",
    "    if i % 100000 == 0:\n",
    "        print(i)\n",
    "    i += 1\n",
    "    for field in fields:\n",
    "        value = pgn[field] if field in pgn else None\n",
    "        data[field].append(value)\n",
    "    try:\n",
    "        pgn = read_headers(file)\n",
    "    except UnicodeDecodeError:\n",
    "        print(\"Unidecode error:\", i)\n",
    "        pass"
   ]
  },
  {
   "cell_type": "code",
   "execution_count": 39,
   "metadata": {},
   "outputs": [
    {
     "name": "stdout",
     "output_type": "stream",
     "text": [
      "(1494164, 5)\n"
     ]
    },
    {
     "data": {
      "text/html": [
       "<div>\n",
       "<style scoped>\n",
       "    .dataframe tbody tr th:only-of-type {\n",
       "        vertical-align: middle;\n",
       "    }\n",
       "\n",
       "    .dataframe tbody tr th {\n",
       "        vertical-align: top;\n",
       "    }\n",
       "\n",
       "    .dataframe thead th {\n",
       "        text-align: right;\n",
       "    }\n",
       "</style>\n",
       "<table border=\"1\" class=\"dataframe\">\n",
       "  <thead>\n",
       "    <tr style=\"text-align: right;\">\n",
       "      <th></th>\n",
       "      <th>White</th>\n",
       "      <th>Black</th>\n",
       "      <th>WhiteElo</th>\n",
       "      <th>BlackElo</th>\n",
       "      <th>Result</th>\n",
       "    </tr>\n",
       "  </thead>\n",
       "  <tbody>\n",
       "    <tr>\n",
       "      <th>0</th>\n",
       "      <td>Kravchenko, Vladimir V</td>\n",
       "      <td>Smirnova, Ekaterina</td>\n",
       "      <td>2377</td>\n",
       "      <td>2130</td>\n",
       "      <td>0-1</td>\n",
       "    </tr>\n",
       "    <tr>\n",
       "      <th>1</th>\n",
       "      <td>Evdokimov, Alexey</td>\n",
       "      <td>Karpov, Alexander</td>\n",
       "      <td>2249</td>\n",
       "      <td>2242</td>\n",
       "      <td>1-0</td>\n",
       "    </tr>\n",
       "    <tr>\n",
       "      <th>2</th>\n",
       "      <td>Egorov, Pavel</td>\n",
       "      <td>Golubev, Roman</td>\n",
       "      <td>2249</td>\n",
       "      <td>2334</td>\n",
       "      <td>1/2-1/2</td>\n",
       "    </tr>\n",
       "    <tr>\n",
       "      <th>3</th>\n",
       "      <td>Nikologorskiy, Konstantin</td>\n",
       "      <td>Kravchenko, Vladimir V</td>\n",
       "      <td>2410</td>\n",
       "      <td>2377</td>\n",
       "      <td>1-0</td>\n",
       "    </tr>\n",
       "    <tr>\n",
       "      <th>4</th>\n",
       "      <td>Egorov, Pavel</td>\n",
       "      <td>Evdokimov, Alexey</td>\n",
       "      <td>2249</td>\n",
       "      <td>2249</td>\n",
       "      <td>1/2-1/2</td>\n",
       "    </tr>\n",
       "  </tbody>\n",
       "</table>\n",
       "</div>"
      ],
      "text/plain": [
       "                       White                   Black WhiteElo BlackElo  \\\n",
       "0     Kravchenko, Vladimir V     Smirnova, Ekaterina     2377     2130   \n",
       "1          Evdokimov, Alexey       Karpov, Alexander     2249     2242   \n",
       "2              Egorov, Pavel          Golubev, Roman     2249     2334   \n",
       "3  Nikologorskiy, Konstantin  Kravchenko, Vladimir V     2410     2377   \n",
       "4              Egorov, Pavel       Evdokimov, Alexey     2249     2249   \n",
       "\n",
       "    Result  \n",
       "0      0-1  \n",
       "1      1-0  \n",
       "2  1/2-1/2  \n",
       "3      1-0  \n",
       "4  1/2-1/2  "
      ]
     },
     "execution_count": 39,
     "metadata": {},
     "output_type": "execute_result"
    }
   ],
   "source": [
    "df = pd.DataFrame(data)\n",
    "print(df.shape)\n",
    "df.head()"
   ]
  },
  {
   "cell_type": "code",
   "execution_count": 40,
   "metadata": {},
   "outputs": [
    {
     "data": {
      "text/plain": [
       "White            0\n",
       "Black            0\n",
       "WhiteElo    136418\n",
       "BlackElo    138377\n",
       "Result           0\n",
       "dtype: int64"
      ]
     },
     "execution_count": 40,
     "metadata": {},
     "output_type": "execute_result"
    }
   ],
   "source": [
    "df.isna().sum()"
   ]
  },
  {
   "cell_type": "code",
   "execution_count": null,
   "metadata": {},
   "outputs": [],
   "source": []
  }
 ],
 "metadata": {
  "interpreter": {
   "hash": "ea8266990647104c96fc9188f7d874fd4abbf03643df52e5712d4331e6e5aefb"
  },
  "kernelspec": {
   "display_name": "Python 3.9.7 ('chess')",
   "language": "python",
   "name": "python3"
  },
  "language_info": {
   "codemirror_mode": {
    "name": "ipython",
    "version": 3
   },
   "file_extension": ".py",
   "mimetype": "text/x-python",
   "name": "python",
   "nbconvert_exporter": "python",
   "pygments_lexer": "ipython3",
   "version": "3.9.7"
  },
  "orig_nbformat": 4
 },
 "nbformat": 4,
 "nbformat_minor": 2
}
